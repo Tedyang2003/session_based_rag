{
 "cells": [
  {
   "cell_type": "markdown",
   "metadata": {},
   "source": [
    "### File Upload"
   ]
  },
  {
   "cell_type": "code",
   "execution_count": 16,
   "metadata": {},
   "outputs": [
    {
     "name": "stdout",
     "output_type": "stream",
     "text": [
      "Files successfully uploaded!\n",
      "{'status': 'success'}\n"
     ]
    }
   ],
   "source": [
    "import requests\n",
    "import base64\n",
    "\n",
    "def encode_pdf_to_base64(pdf_path):\n",
    "    \"\"\"Helper function to encode a PDF file to Base64.\"\"\"\n",
    "    with open(pdf_path, \"rb\") as pdf_file:\n",
    "        pdf_binary = pdf_file.read()\n",
    "        return base64.b64encode(pdf_binary).decode('utf-8')  # Convert bytes to string\n",
    "\n",
    "def send_files_to_api(api_url, collection_name, files):\n",
    "    \"\"\"Function to send files in Base64 encoded format to an API.\"\"\"\n",
    "    \n",
    "    # Prepare the payload\n",
    "    payload = {\n",
    "        \"collection_name\": collection_name,\n",
    "        \"files\": []\n",
    "    }\n",
    "\n",
    "    for file in files:\n",
    "        # Get the file name and encode the PDF to Base64\n",
    "        file_name = file[\"name\"]\n",
    "        pdf_path = file[\"file_path\"]\n",
    "        base64_pdf = encode_pdf_to_base64(pdf_path)\n",
    "\n",
    "        # Add to the payload\n",
    "        payload[\"files\"].append({\n",
    "            \"name\": file_name,\n",
    "            \"bytes\": base64_pdf\n",
    "        })\n",
    "    \n",
    "    # Send the POST request\n",
    "    response = requests.post(api_url, json=payload)\n",
    "    \n",
    "    # Check for success or failure\n",
    "    if response.status_code == 200:\n",
    "        print(\"Files successfully uploaded!\")\n",
    "        print(response.json())  # Optionally print the response data\n",
    "    else:\n",
    "        print(f\"Error: {response.status_code}\")\n",
    "        print(response.json())\n",
    "\n",
    "# Example usage\n",
    "api_url = \"http://127.0.0.1:5000/rag/upload\"  # Replace with your API URL\n",
    "collection_name = \"guest\"\n",
    "files = [{\"name\": \"law.pdf\", \"file_path\": \"./sg-law.pdf\"}]\n",
    "\n",
    "send_files_to_api(api_url, collection_name, files)\n"
   ]
  },
  {
   "cell_type": "markdown",
   "metadata": {},
   "source": [
    "### Querying"
   ]
  },
  {
   "cell_type": "code",
   "execution_count": 23,
   "metadata": {},
   "outputs": [
    {
     "name": "stdout",
     "output_type": "stream",
     "text": [
      "Query successfully sent!\n",
      "{'content': 'According to the Constitution, the official languages of Singapore are Malay, Mandarin, Tamil, and English. These four languages are recognized as national languages and are used for official purposes such as government documents, education, and communication with citizens.\\n\\n*Answer*: Malay, Mandarin, Tamil, and English', 'recommended_pages': ['/workspaces/rag_prototype/storage/guest/law/pages/page_173.png'], 'role': 'assistant'}\n"
     ]
    }
   ],
   "source": [
    "import requests\n",
    "\n",
    "def send_query(api_url, query, collection_name):\n",
    "    \"\"\"Function to send a query in a POST request.\"\"\"\n",
    "    \n",
    "    # Prepare the payload with the query parameters\n",
    "    payload = {\n",
    "        \"query\": query,\n",
    "        \"collection_name\": collection_name\n",
    "    }\n",
    "    \n",
    "    # Send the POST request with the payload as JSON\n",
    "    response = requests.post(api_url, json=payload)\n",
    "    \n",
    "    # Check for success or failure\n",
    "    if response.status_code == 200:\n",
    "        print(\"Query successfully sent!\")   \n",
    "        print(response.json())  # Print the response from the server\n",
    "    else:\n",
    "        print(f\"Error: {response.status_code}\")\n",
    "        print(response.json())\n",
    "    \n",
    "    return response.json()\n",
    "\n",
    "# Example usage\n",
    "api_url = \"http://127.0.0.1:5000/rag/query\"  # Replace with your API URL\n",
    "collection_name = \"guest\"\n",
    "query = \"What are the official languages in Singapore\"\n",
    "response = send_query(api_url, query, collection_name)\n"
   ]
  },
  {
   "cell_type": "code",
   "execution_count": 24,
   "metadata": {},
   "outputs": [
    {
     "data": {
      "text/plain": [
       "'According to the Constitution, the official languages of Singapore are Malay, Mandarin, Tamil, and English. These four languages are recognized as national languages and are used for official purposes such as government documents, education, and communication with citizens.\\n\\n*Answer*: Malay, Mandarin, Tamil, and English'"
      ]
     },
     "execution_count": 24,
     "metadata": {},
     "output_type": "execute_result"
    }
   ],
   "source": [
    "response['content']"
   ]
  },
  {
   "cell_type": "code",
   "execution_count": null,
   "metadata": {},
   "outputs": [],
   "source": []
  }
 ],
 "metadata": {
  "kernelspec": {
   "display_name": "Python 3",
   "language": "python",
   "name": "python3"
  },
  "language_info": {
   "codemirror_mode": {
    "name": "ipython",
    "version": 3
   },
   "file_extension": ".py",
   "mimetype": "text/x-python",
   "name": "python",
   "nbconvert_exporter": "python",
   "pygments_lexer": "ipython3",
   "version": "3.12.7"
  }
 },
 "nbformat": 4,
 "nbformat_minor": 2
}
