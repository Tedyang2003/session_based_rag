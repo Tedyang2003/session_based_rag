{
 "cells": [
  {
   "cell_type": "markdown",
   "metadata": {},
   "source": [
    "### File Upload"
   ]
  },
  {
   "cell_type": "code",
   "execution_count": 1,
   "metadata": {},
   "outputs": [],
   "source": [
    "def encode_pdf_to_base64(pdf_path):\n",
    "    \"\"\"Helper function to encode a PDF file to Base64.\"\"\"\n",
    "    with open(pdf_path, \"rb\") as pdf_file:\n",
    "        pdf_binary = pdf_file.read()\n",
    "        return base64.b64encode(pdf_binary).decode('utf-8')  # Convert bytes to string\n"
   ]
  },
  {
   "cell_type": "code",
   "execution_count": 11,
   "metadata": {},
   "outputs": [
    {
     "name": "stdout",
     "output_type": "stream",
     "text": [
      "Files successfully uploaded!\n",
      "{'status': 'success'}\n"
     ]
    }
   ],
   "source": [
    "import requests\n",
    "import base64\n",
    "\n",
    "def send_files_to_api(api_url, collection_name, files):\n",
    "    \"\"\"Function to send files in Base64 encoded format to an API.\"\"\"\n",
    "    \n",
    "    # Prepare the payload\n",
    "\n",
    "    file_name = file[\"name\"]\n",
    "    pdf_path = file[\"file_path\"]\n",
    "    base64_pdf = encode_pdf_to_base64(pdf_path)\n",
    "\n",
    "    # Add to the payload\n",
    "    processed_file = {\n",
    "        \"name\": file_name,\n",
    "        \"bytes\": base64_pdf\n",
    "    }\n",
    "\n",
    "    payload = {\n",
    "        \"collection_name\": collection_name,\n",
    "        \"file\": processed_file\n",
    "    }\n",
    "    \n",
    "    # Send the POST request\n",
    "    response = requests.post(api_url, json=payload)\n",
    "    \n",
    "    # Check for success or failure\n",
    "    if response.status_code == 200:\n",
    "        print(\"Files successfully uploaded!\")\n",
    "        print(response.json())  # Optionally print the response data\n",
    "    else:\n",
    "        print(f\"Error: {response.status_code}\")\n",
    "        print(response.json())\n",
    "\n",
    "# Example usage\n",
    "api_url = \"http://rag-backend-route-colpali-rag.apps.gemini.sl/rag/upload\"  # Replace with your API URL\n",
    "collection_name = \"newbie\"\n",
    "file = {\"name\": \"nps_faq.pdf\", \"file_path\": \"./nps-faq.pdf\"}\n",
    "\n",
    "send_files_to_api(api_url, collection_name, file)\n"
   ]
  },
  {
   "cell_type": "markdown",
   "metadata": {},
   "source": [
    "### Querying"
   ]
  },
  {
   "cell_type": "code",
   "execution_count": null,
   "metadata": {},
   "outputs": [
    {
     "name": "stdout",
     "output_type": "stream",
     "text": [
      "Query successfully sent!\n",
      "{'recommended_pages': ['/data/storage/newbie/nps_faq/pages/page_8.png'], 'role': 'assistant', 'text_output': 'Kubernetes is an open-source container orchestration system for automating the deployment, scaling, and management of containerized applications. It was originally designed by Google, but it is now maintained by the Cloud Native Computing Foundation (CNCF). Kubernetes provides a framework for packaging, deploying, and managing containers that can be run on any infrastructure or cloud platform.\\n\\nKubernetes works by using a control plane to manage a cluster of worker nodes. The control plane includes components such as the API server, controller manager, scheduler, and etcd, which are responsible for managing the state of the cluster and ensuring that applications are deployed correctly. The worker nodes run the containers and provide resources for them.\\n\\nKubernetes provides several key features, including:\\n\\n1. **Deployment**: Kubernetes allows you to define a deployment configuration for your application, which includes the container image, port numbers, and other settings.\\n2. **Scaling**: Kubernetes can automatically scale your application up or down based on demand, ensuring that there are always enough resources available to handle incoming traffic.\\n3. **Self-healing**: Kubernetes can automatically restart containers that fail or become unresponsive, ensuring that your application remains available even in the event of a failure.\\n4. **Resource management**: Kubernetes provides a resource management system that allows you to define limits and requests for CPU and memory resources, ensuring that your containers are allocated the necessary resources to run efficiently.\\n\\nKubernetes is widely used in production environments due to its ability to automate many of the tasks involved in managing containerized applications, such as deployment, scaling, and monitoring. It has become a popular choice for enterprises looking to adopt cloud-native technologies and improve their application delivery workflows.\\n\\nOverall, Kubernetes provides a powerful framework for automating the management of containerized applications, allowing developers to focus on writing code rather than worrying about the underlying infrastructure.'}\n"
     ]
    }
   ],
   "source": [
    "import requests\n",
    "\n",
    "def send_query(api_url, query, collection_name):\n",
    "    \"\"\"Function to send a query in a POST request.\"\"\"\n",
    "    \n",
    "    # Prepare the payload with the query parameters\n",
    "    payload = {\n",
    "        \"query\": query,\n",
    "        \"collection_name\": collection_name\n",
    "    }\n",
    "    \n",
    "    # Send the POST request with the payload as JSON\n",
    "    response = requests.post(api_url, json=payload)\n",
    "    \n",
    "    # Check for success or failure\n",
    "    if response.status_code == 200:\n",
    "        print(\"Query successfully sent!\")   \n",
    "        print(response.json())  # Print the response from the server\n",
    "    else:\n",
    "        print(f\"Error: {response.status_code}\")\n",
    "        print(response.json())\n",
    "    \n",
    "    return response.json()\n",
    "\n",
    "# Example usage\n",
    "api_url = \"http://rag-backend-route-colpali-rag.apps.gemini.sl/rag/query\"  # Replace with your API URL\n",
    "collection_name = \"newbie\"\n",
    "query = \"Can a minor be a nominee?\"\n",
    "response = send_query(api_url, query, collection_name)\n"
   ]
  },
  {
   "cell_type": "code",
   "execution_count": 5,
   "metadata": {},
   "outputs": [
    {
     "name": "stdout",
     "output_type": "stream",
     "text": [
      "Yes, as stated in point 24 of the provided document, minors can be nominated. However, additional details are required for their nomination, including providing guardian's details and birth date. This ensures that the nominee is properly identified and authorized to act on behalf of the minor.\n"
     ]
    }
   ],
   "source": [
    "import re \n",
    "\n",
    "# Function to format text as markdown\n",
    "def format_as_markdown(text):\n",
    "    # Ensure there's a newline between paragraphs\n",
    "    text = re.sub(r'(\\n{2,})', '\\n\\n', text)  # Convert multiple newlines to one\n",
    "    # Adding line breaks for better readability in markdown\n",
    "    text = re.sub(r'([^\\n])\\n([^\\n])', r'\\1  \\n\\2', text)  # Replace single newlines with line breaks\n",
    "    \n",
    "    return text\n",
    "\n",
    "formatted_text = format_as_markdown(response['text_output'])\n",
    "\n",
    "# Now you can use this formatted_text in a Markdown cell or render it with the markdown library\n",
    "print(formatted_text)"
   ]
  },
  {
   "cell_type": "code",
   "execution_count": null,
   "metadata": {},
   "outputs": [
    {
     "name": "stdout",
     "output_type": "stream",
     "text": [
      "iVBORw0KGgoAAAANSUhEUgAAAu4AAAQlBAMAAAAbzFW0AAAAMF\n"
     ]
    }
   ],
   "source": [
    "from PIL import Image\n",
    "import base64\n",
    "from io import BytesIO\n",
    "\n",
    "# Create an image (or open an existing one)\n",
    "images = [Image.open(\"invoice-template-us-neat-750px.png\")] # A 100x100 red image\n",
    "base64s = []\n",
    "for image in images:\n",
    "    # Create a buffer to store the image\n",
    "    buffered = BytesIO()    \n",
    "\n",
    "    # Save the image into the buffer as JPEG\n",
    "    image.save(buffered, format=\"PNG\")\n",
    "\n",
    "    # Get the binary data from the buffer\n",
    "    binary_data = buffered.getvalue()\n",
    "\n",
    "    # Print the first 50 bytes of binary data\n",
    "    base64_image = base64.b64encode(buffered.getvalue()).decode('utf-8')\n",
    "    base64s.append(base64_image)\n",
    "    \n"
   ]
  },
  {
   "cell_type": "code",
   "execution_count": 7,
   "metadata": {},
   "outputs": [
    {
     "data": {
      "text/plain": [
       "{'image_base64': [<PIL.PngImagePlugin.PngImageFile image mode=P size=750x1061>],\n",
       " 'process_type': 'embedd_images'}"
      ]
     },
     "execution_count": 7,
     "metadata": {},
     "output_type": "execute_result"
    }
   ],
   "source": [
    "request = {\n",
    "    \"image_base64\": [images[0]],\n",
    "    \"process_type\": 'embedd_images'\n",
    "}\n",
    "request"
   ]
  },
  {
   "cell_type": "code",
   "execution_count": 3,
   "metadata": {},
   "outputs": [
    {
     "ename": "SyntaxError",
     "evalue": "invalid syntax. Perhaps you forgot a comma? (3338693767.py, line 3)",
     "output_type": "error",
     "traceback": [
      "\u001b[1;36m  Cell \u001b[1;32mIn[3], line 3\u001b[1;36m\u001b[0m\n\u001b[1;33m    name: \"TEXT\"\u001b[0m\n\u001b[1;37m          ^\u001b[0m\n\u001b[1;31mSyntaxError\u001b[0m\u001b[1;31m:\u001b[0m invalid syntax. Perhaps you forgot a comma?\n"
     ]
    }
   ],
   "source": [
    "input [\n",
    "{\n",
    "    name: \"TEXT\"\n",
    "    data_type: TYPE_STRING\n",
    "    dims: [ -1 ]\n",
    "}\n",
    "]"
   ]
  },
  {
   "cell_type": "code",
   "execution_count": null,
   "metadata": {},
   "outputs": [],
   "source": []
  }
 ],
 "metadata": {
  "kernelspec": {
   "display_name": "env",
   "language": "python",
   "name": "python3"
  },
  "language_info": {
   "codemirror_mode": {
    "name": "ipython",
    "version": 3
   },
   "file_extension": ".py",
   "mimetype": "text/x-python",
   "name": "python",
   "nbconvert_exporter": "python",
   "pygments_lexer": "ipython3",
   "version": "3.12.4"
  }
 },
 "nbformat": 4,
 "nbformat_minor": 2
}
