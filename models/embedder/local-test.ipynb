{
 "cells": [
  {
   "cell_type": "markdown",
   "metadata": {},
   "source": [
    "### Local Onnx Test"
   ]
  },
  {
   "cell_type": "code",
   "execution_count": 5,
   "metadata": {},
   "outputs": [
    {
     "data": {
      "text/plain": [
       "'/workspaces/rag_prototype/models/embedder'"
      ]
     },
     "execution_count": 5,
     "metadata": {},
     "output_type": "execute_result"
    }
   ],
   "source": [
    "import os\n",
    "os.getcwd()"
   ]
  },
  {
   "cell_type": "code",
   "execution_count": 10,
   "metadata": {},
   "outputs": [
    {
     "data": {
      "text/plain": [
       "[array([[[ 0.08390327,  0.19795458,  0.29698628, ..., -0.0713546 ,\n",
       "          -0.09769778, -0.40413493],\n",
       "         [-0.1609579 ,  0.02804918,  0.15180624, ...,  0.09533711,\n",
       "           0.2472866 , -0.13007842],\n",
       "         [ 0.116238  , -0.04968553,  0.1525496 , ...,  0.13903278,\n",
       "           0.26824445, -0.32201058],\n",
       "         ...,\n",
       "         [ 0.24339935, -0.09559675,  0.07080201, ..., -0.04756254,\n",
       "           0.02960365, -0.6810834 ],\n",
       "         [ 0.16566315, -0.22281522,  0.14389402, ..., -0.04828335,\n",
       "           0.43901905, -0.37544316],\n",
       "         [ 0.07758234, -0.2386691 , -0.06030796, ..., -0.03946404,\n",
       "           0.15006924, -0.7060415 ]]], dtype=float32)]"
      ]
     },
     "execution_count": 10,
     "metadata": {},
     "output_type": "execute_result"
    }
   ],
   "source": [
    "import onnx\n",
    "import onnxruntime as ort\n",
    "import numpy as np\n",
    "\n",
    "# Load the ONNX model\n",
    "onnx_model_path = \"./gte-large/model/model.onnx\"  # Path to your ONNX model file\n",
    "onnx_model = onnx.load(onnx_model_path)\n",
    "onnx.checker.check_model(onnx_model)  # Verify the model's integrity\n",
    "\n",
    "# Create an ONNX runtime session\n",
    "session = ort.InferenceSession(onnx_model_path)\n",
    "\n",
    "# Prepare dummy input (ensure the input shape matches the model's requirements)\n",
    "# For example, if you are using a BERT-like model, the typical input would be input_ids and attention_mask\n",
    "# You would need to tokenize your text and convert it to a numpy array before passing it to the model.\n",
    "\n",
    "# Example sentence\n",
    "sentence = \"This is a test sentence.\"\n",
    "\n",
    "# You will need to tokenize the sentence, just as you would when using a PyTorch model\n",
    "# Here we use a simple placeholder (you should use the tokenizer for your specific model)\n",
    "# This is an example; in reality, you'll need to use the tokenizer from the Hugging Face library\n",
    "\n",
    "from transformers import AutoTokenizer\n",
    "\n",
    "# Load tokenizer (use the same tokenizer you used for model training)\n",
    "tokenizer = AutoTokenizer.from_pretrained(\"./gte-large/tokenizer\")\n",
    "\n",
    "# Tokenize the input sentence\n",
    "inputs = tokenizer(sentence, return_tensors=\"np\", padding=True, truncation=True, max_length=512)\n",
    "\n",
    "# Prepare inputs for ONNX model (inputs should be numpy arrays)\n",
    "input_ids = inputs['input_ids']\n",
    "attention_mask = inputs['attention_mask']\n",
    "token_type_ids = inputs['token_type_ids']\n",
    "\n",
    "# Ensure the inputs are in the right format (numpy arrays)\n",
    "input_ids = np.array(input_ids, dtype=np.int64)\n",
    "attention_mask = np.array(attention_mask, dtype=np.int64)\n",
    "token_type_ids = np.array(token_type_ids, dtype=np.int64)\n",
    "# Run inference with ONNX Runtime\n",
    "# Set the input names as expected by the model (check the model's input names)\n",
    "# Here, 'input_ids' and 'attention_mask' are the input names\n",
    "outputs = session.run([\"last_hidden_state\"], {\n",
    "    \"input_ids\": input_ids,\n",
    "    \"attention_mask\": attention_mask,\n",
    "    'token_type_ids': token_type_ids\n",
    "})\n",
    "\n",
    "outputs"
   ]
  },
  {
   "cell_type": "code",
   "execution_count": 14,
   "metadata": {},
   "outputs": [
    {
     "data": {
      "text/plain": [
       "(1, 8, 768)"
      ]
     },
     "execution_count": 14,
     "metadata": {},
     "output_type": "execute_result"
    }
   ],
   "source": [
    "outputs[0].shape"
   ]
  },
  {
   "cell_type": "markdown",
   "metadata": {},
   "source": [
    "### Remote Onnx Test"
   ]
  },
  {
   "cell_type": "code",
   "execution_count": 5,
   "metadata": {},
   "outputs": [],
   "source": [
    "import requests\n",
    "import numpy as np\n",
    "\n",
    "# URL for the Triton service\n",
    "\n",
    "def emb_text(text, url=\"http://triton-direct-s3-route-triton-inference-services.apps.nebula.sl/v2/models/gte-base/infer\"):\n",
    "    \n",
    "    # Payload for the request\n",
    "    payload = {\n",
    "        \"inputs\": [\n",
    "            {\n",
    "                \"name\": \"TEXT\",\n",
    "                \"datatype\": \"BYTES\",\n",
    "                \"shape\": [1],\n",
    "                \"data\": [text]\n",
    "            },\n",
    "        ]\n",
    "    }\n",
    "\n",
    "    # Sending the POST request and printing the response\n",
    "    try:\n",
    "        response = requests.post(url, json=payload)\n",
    "        outputs = response.json()['outputs'][0]\n",
    "        data = outputs['data']\n",
    "        shape = outputs['shape']\n",
    "    \n",
    "        input_tensor =  np.array(data)\n",
    "    \n",
    "    \n",
    "        # Shape information from input tensor (this is provided in the 'shape' argument)\n",
    "        batch_size, seq_len, embedding_dim = shape\n",
    "    \n",
    "        # Reshape the 1D array into the original 3D shape (batch_size, seq_len, embedding_dim)\n",
    "        input_data = input_tensor.reshape(batch_size, seq_len, embedding_dim)\n",
    "    \n",
    "        # Apply mean pooling across the sequence length (axis=1)\n",
    "        pooled_embeddings = np.mean(input_data, axis=1)  # Shape will be [batch_size, embedding_dim]\n",
    "        \n",
    "        return pooled_embeddings.tolist()[0]\n",
    "            \n",
    "    except requests.exceptions.RequestException as e:\n",
    "        print(\"Request failed:\", str(e))"
   ]
  },
  {
   "cell_type": "code",
   "execution_count": 7,
   "metadata": {},
   "outputs": [
    {
     "data": {
      "text/plain": [
       "768"
      ]
     },
     "execution_count": 7,
     "metadata": {},
     "output_type": "execute_result"
    }
   ],
   "source": [
    "len(emb_text('Hello what is your name'))"
   ]
  },
  {
   "cell_type": "raw",
   "metadata": {
    "vscode": {
     "languageId": "raw"
    }
   },
   "source": [
    "curl http://ollama-route-ollama-daryl.apps.nebula.sl/api/chat -d '{\n",
    "  \"model\": \"llama3.2-vision:11b\",\n",
    "  \"messages\": [\n",
    "    {\n",
    "      \"role\": \"user\",\n",
    "      \"content\": \"Is this a lorikeet?\",\n",
    "      \"images\": [\"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\"]\n",
    "    }\n",
    "  ],\n",
    "  \"stream\": false\n",
    "}'"
   ]
  }
 ],
 "metadata": {
  "kernelspec": {
   "display_name": "env",
   "language": "python",
   "name": "python3"
  },
  "language_info": {
   "codemirror_mode": {
    "name": "ipython",
    "version": 3
   },
   "file_extension": ".py",
   "mimetype": "text/x-python",
   "name": "python",
   "nbconvert_exporter": "python",
   "pygments_lexer": "ipython3",
   "version": "3.12.4"
  }
 },
 "nbformat": 4,
 "nbformat_minor": 2
}
