{
 "cells": [
  {
   "cell_type": "markdown",
   "metadata": {},
   "source": [
    "### File Upload"
   ]
  },
  {
   "cell_type": "code",
   "execution_count": 3,
   "metadata": {},
   "outputs": [
    {
     "name": "stdout",
     "output_type": "stream",
     "text": [
      "Files successfully uploaded!\n",
      "{'status': 'success'}\n"
     ]
    }
   ],
   "source": [
    "import requests\n",
    "import base64\n",
    "\n",
    "def encode_pdf_to_base64(pdf_path):\n",
    "    \"\"\"Helper function to encode a PDF file to Base64.\"\"\"\n",
    "    with open(pdf_path, \"rb\") as pdf_file:\n",
    "        pdf_binary = pdf_file.read()\n",
    "        return base64.b64encode(pdf_binary).decode('utf-8')  # Convert bytes to string\n",
    "\n",
    "def send_files_to_api(api_url, collection_name, files):\n",
    "    \"\"\"Function to send files in Base64 encoded format to an API.\"\"\"\n",
    "    \n",
    "    # Prepare the payload\n",
    "    payload = {\n",
    "        \"collection_name\": collection_name,\n",
    "        \"files\": []\n",
    "    }\n",
    "\n",
    "    for file in files:\n",
    "        # Get the file name and encode the PDF to Base64\n",
    "        file_name = file[\"name\"]\n",
    "        pdf_path = file[\"file_path\"]\n",
    "        base64_pdf = encode_pdf_to_base64(pdf_path)\n",
    "\n",
    "        # Add to the payload\n",
    "        payload[\"files\"].append({\n",
    "            \"name\": file_name,\n",
    "            \"bytes\": base64_pdf\n",
    "        })\n",
    "    \n",
    "    # Send the POST request\n",
    "    response = requests.post(api_url, json=payload)\n",
    "    \n",
    "    # Check for success or failure\n",
    "    if response.status_code == 200:\n",
    "        print(\"Files successfully uploaded!\")\n",
    "        print(response.json())  # Optionally print the response data\n",
    "    else:\n",
    "        print(f\"Error: {response.status_code}\")\n",
    "        print(response.json())\n",
    "\n",
    "# Example usage\n",
    "api_url = \"http://rag-backend-route-colpali-rag.apps.gemini.sl/rag/upload\"  # Replace with your API URL\n",
    "collection_name = \"guest\"\n",
    "files = [{\"name\": \"nps_faq.pdf\", \"file_path\": \"./nps-faq.pdf\"}]\n",
    "\n",
    "send_files_to_api(api_url, collection_name, files)\n"
   ]
  },
  {
   "cell_type": "markdown",
   "metadata": {},
   "source": [
    "### Querying"
   ]
  },
  {
   "cell_type": "code",
   "execution_count": 22,
   "metadata": {},
   "outputs": [
    {
     "name": "stdout",
     "output_type": "stream",
     "text": [
      "Query successfully sent!\n",
      "{'content': '**Yes**, a minor can be a nominee. This is stated in the image under question 24, which states: \"Yes, minor can be a nominee.\" \\n\\nThis indicates that minors are allowed to serve as nominees, and this information can be found in the provided text.', 'recommended_pages': ['/data/storage/guest/nps_faq/pages/page_6.png'], 'role': 'assistant'}\n"
     ]
    }
   ],
   "source": [
    "import requests\n",
    "\n",
    "def send_query(api_url, query, collection_name):\n",
    "    \"\"\"Function to send a query in a POST request.\"\"\"\n",
    "    \n",
    "    # Prepare the payload with the query parameters\n",
    "    payload = {\n",
    "        \"query\": query,\n",
    "        \"collection_name\": collection_name\n",
    "    }\n",
    "    \n",
    "    # Send the POST request with the payload as JSON\n",
    "    response = requests.post(api_url, json=payload)\n",
    "    \n",
    "    # Check for success or failure\n",
    "    if response.status_code == 200:\n",
    "        print(\"Query successfully sent!\")   \n",
    "        print(response.json())  # Print the response from the server\n",
    "    else:\n",
    "        print(f\"Error: {response.status_code}\")\n",
    "        print(response.json())\n",
    "    \n",
    "    return response.json()\n",
    "\n",
    "# Example usage\n",
    "api_url = \"http://rag-backend-route-colpali-rag.apps.gemini.sl/rag/query\"  # Replace with your API URL\n",
    "collection_name = \"guest\"\n",
    "query = \"Can a minor be a nominee? give evidence\"\n",
    "response = send_query(api_url, query, collection_name)\n"
   ]
  },
  {
   "cell_type": "code",
   "execution_count": 23,
   "metadata": {},
   "outputs": [
    {
     "name": "stdout",
     "output_type": "stream",
     "text": [
      "**Yes**, a minor can be a nominee. This is stated in the image under question 24, which states: \"Yes, minor can be a nominee.\" \n",
      "\n",
      "This indicates that minors are allowed to serve as nominees, and this information can be found in the provided text.\n"
     ]
    }
   ],
   "source": [
    "import re \n",
    "\n",
    "# Function to format text as markdown\n",
    "def format_as_markdown(text):\n",
    "    # Ensure there's a newline between paragraphs\n",
    "    text = re.sub(r'(\\n{2,})', '\\n\\n', text)  # Convert multiple newlines to one\n",
    "    # Adding line breaks for better readability in markdown\n",
    "    text = re.sub(r'([^\\n])\\n([^\\n])', r'\\1  \\n\\2', text)  # Replace single newlines with line breaks\n",
    "    \n",
    "    return text\n",
    "\n",
    "formatted_text = format_as_markdown(response['content'])\n",
    "\n",
    "# Now you can use this formatted_text in a Markdown cell or render it with the markdown library\n",
    "print(formatted_text)"
   ]
  },
  {
   "cell_type": "code",
   "execution_count": null,
   "metadata": {},
   "outputs": [],
   "source": []
  },
  {
   "cell_type": "code",
   "execution_count": null,
   "metadata": {},
   "outputs": [],
   "source": []
  }
 ],
 "metadata": {
  "kernelspec": {
   "display_name": "Python 3",
   "language": "python",
   "name": "python3"
  },
  "language_info": {
   "codemirror_mode": {
    "name": "ipython",
    "version": 3
   },
   "file_extension": ".py",
   "mimetype": "text/x-python",
   "name": "python",
   "nbconvert_exporter": "python",
   "pygments_lexer": "ipython3",
   "version": "3.13.0"
  }
 },
 "nbformat": 4,
 "nbformat_minor": 2
}
